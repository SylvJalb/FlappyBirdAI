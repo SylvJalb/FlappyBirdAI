{
 "cells": [
  {
   "cell_type": "markdown",
   "metadata": {},
   "source": [
    "# Import libraries"
   ]
  },
  {
   "cell_type": "code",
   "execution_count": 96,
   "metadata": {},
   "outputs": [],
   "source": [
    "import pyautogui\n",
    "import gi\n",
    "gi.require_version(\"Wnck\", \"3.0\")\n",
    "from gi.repository import Wnck\n",
    "\n",
    "from IPython.display import clear_output\n",
    "from time import sleep\n",
    "\n",
    "import matplotlib.pyplot as plt\n",
    "\n",
    "from collections import deque\n",
    "import tensorflow.compat.v1 as tf\n",
    "tf.compat.v1.disable_eager_execution()\n",
    "\n",
    "import numpy as np\n",
    "\n",
    "import time"
   ]
  },
  {
   "cell_type": "markdown",
   "metadata": {},
   "source": [
    "# FIRST OF ALL : Run the game\n",
    "``` bash\n",
    "cd ./FlappyBirdGame\n",
    "python ./flappy.py\n",
    "```"
   ]
  },
  {
   "cell_type": "markdown",
   "metadata": {},
   "source": [
    "# Game Class"
   ]
  },
  {
   "cell_type": "code",
   "execution_count": 105,
   "metadata": {},
   "outputs": [],
   "source": [
    "class FlappyBirdGame :\n",
    "    def __init__(self, windowName):\n",
    "        scr = Wnck.Screen.get_default()\n",
    "        scr.force_update()\n",
    "        windows = scr.get_windows()\n",
    "        self.flappyBird_window = None\n",
    "        for window in windows:\n",
    "            # if title is \"Flappy Bird\"\n",
    "            if window.get_name() == windowName:\n",
    "                # get the window's geometry\n",
    "                x, y, width, height = window.get_geometry()\n",
    "                self.flappyBird_window = { \"x\": x, \"y\": y, \"width\": width, \"height\": height }\n",
    "                print(\"Game Positions ↓\\n - x :\", x , \"\\n - y :\", y , \"\\n - width :\", width , \"\\n - height :\", height)\n",
    "        if self.flappyBird_window is None:\n",
    "            print(\"Window not found\")\n",
    "        else :\n",
    "            self.flappyBird_click = ( self.flappyBird_window[\"x\"] + self.flappyBird_window[\"width\"]/2, self.flappyBird_window[\"y\"] + self.flappyBird_window[\"height\"] - 30 )\n",
    "            # focus window\n",
    "            self.focus()\n",
    "            # first click\n",
    "            self.get_processed_img()\n",
    "            # init start time\n",
    "            self.start_time = time.time()\n",
    "            # init score\n",
    "            self.score = 0\n",
    "    \n",
    "    def focus(self):\n",
    "        pyautogui.moveTo(self.flappyBird_click)\n",
    "        pyautogui.click()\n",
    "    \n",
    "    def up(self):\n",
    "        pyautogui.press('space')\n",
    "    \n",
    "    def get_img(self):\n",
    "        # make a screenshot of the window\n",
    "        self.img = pyautogui.screenshot(region=(self.flappyBird_window[\"x\"], self.flappyBird_window[\"y\"], self.flappyBird_window[\"width\"], self.flappyBird_window[\"height\"]))\n",
    "        return self.img\n",
    "    \n",
    "    def get_processed_img(self):\n",
    "        # make a screenshot of the window\n",
    "        img = self.get_img()\n",
    "        # convert image to gray scale\n",
    "        img = img.convert('L')\n",
    "        # crop top and bottom of the image\n",
    "        img = img.crop((0, 35, img.width, img.height - 105))\n",
    "        # scale image to 60x60\n",
    "        img = img.resize((60, 60))\n",
    "        # save processed image\n",
    "        self.processed_img = img\n",
    "        # return the image\n",
    "        return img\n",
    "    \n",
    "    def is_end(self): # True if game over, else False\n",
    "        bottom_line_nbr = self.img.height - 108 # 108 pixel from the bottom of the screen\n",
    "        img = self.img.crop((50, bottom_line_nbr, 100, bottom_line_nbr + 1))\n",
    "        # test if one pixel is not (84, 56, 71) -> it's lose\n",
    "        for x in range(img.width):\n",
    "            if img.getpixel((x, 0)) != (84, 56, 71):\n",
    "                return True\n",
    "        return False\n",
    "    \n",
    "    def startRound(self):\n",
    "        # wait 2 seconds\n",
    "        sleep(2)\n",
    "        # focus window\n",
    "        self.focus()\n",
    "        # first click\n",
    "        self.get_processed_img()\n",
    "        # init score\n",
    "        self.score = 0\n",
    "        # start game\n",
    "        self.up()\n",
    "        # start timer\n",
    "        self.start_time = time.time()\n",
    "    \n",
    "    def get_score(self):\n",
    "        # get time\n",
    "        cur_time = time.time()\n",
    "        # if the game started more than 3 second ago\n",
    "        if cur_time - self.start_time > 2.9:\n",
    "            # the score is the time left before the next tube\n",
    "            if cur_time - self.last_reward_time < 1:\n",
    "                self.score = 1 - cur_time - self.last_reward_time\n",
    "            else :\n",
    "                self.last_reward_time = cur_time\n",
    "        return self.score\n",
    "        \n",
    "\n",
    "    def play(self, action):\n",
    "        if action == 1:\n",
    "            self.up()\n",
    "        # wait 0.05 second\n",
    "        sleep(0.05)\n",
    "        img = self.get_processed_img()\n",
    "        end = self.is_end()\n",
    "        if end:\n",
    "            reward = -1\n",
    "        else :\n",
    "            reward = self.get_score()\n",
    "        return img, self.get_score(), end\n",
    "        "
   ]
  },
  {
   "cell_type": "code",
   "execution_count": 81,
   "metadata": {},
   "outputs": [
    {
     "name": "stdout",
     "output_type": "stream",
     "text": [
      "Game Positions ↓\n",
      " - x : 1594 \n",
      " - y : 102 \n",
      " - width : 288 \n",
      " - height : 549\n"
     ]
    }
   ],
   "source": [
    "# Create the game instance\n",
    "game = FlappyBirdGame(\"Flappy Bird\")"
   ]
  },
  {
   "cell_type": "markdown",
   "metadata": {},
   "source": [
    "# Some Tests"
   ]
  },
  {
   "cell_type": "markdown",
   "metadata": {},
   "source": [
    "### Test end of game"
   ]
  },
  {
   "cell_type": "code",
   "execution_count": 82,
   "metadata": {},
   "outputs": [
    {
     "name": "stdout",
     "output_type": "stream",
     "text": [
      "True\n"
     ]
    }
   ],
   "source": [
    "print(game.is_end())"
   ]
  },
  {
   "cell_type": "markdown",
   "metadata": {},
   "source": [
    "### Test screen capture"
   ]
  },
  {
   "cell_type": "code",
   "execution_count": 84,
   "metadata": {},
   "outputs": [
    {
     "data": {
      "text/plain": [
       "<matplotlib.image.AxesImage at 0x7f400dcfcdf0>"
      ]
     },
     "execution_count": 84,
     "metadata": {},
     "output_type": "execute_result"
    },
    {
     "data": {
      "image/png": "[encoded data removed]",
      "text/plain": [
       "<Figure size 640x480 with 1 Axes>"
      ]
     },
     "metadata": {},
     "output_type": "display_data"
    }
   ],
   "source": [
    "plt.imshow(game.img)"
   ]
  },
  {
   "cell_type": "code",
   "execution_count": 85,
   "metadata": {},
   "outputs": [
    {
     "data": {
      "text/plain": [
       "<matplotlib.image.AxesImage at 0x7f400db957e0>"
      ]
     },
     "execution_count": 85,
     "metadata": {},
     "output_type": "execute_result"
    },
    {
     "data": {
      "image/png": "[encoded data removed]",
      "text/plain": [
       "<Figure size 640x480 with 1 Axes>"
      ]
     },
     "metadata": {},
     "output_type": "display_data"
    }
   ],
   "source": [
    "# print image\n",
    "\n",
    "plt.imshow(game.processed_img, cmap='gray')\n",
    "\n",
    "# while True :\n",
    "#     # clear output\n",
    "#     clear_output(wait=True)\n",
    "#     plt.imshow(game.get_processed_img(), cmap='gray')\n",
    "#     plt.show()\n",
    "#     sleep(1)"
   ]
  },
  {
   "cell_type": "markdown",
   "metadata": {},
   "source": [
    "### Test screen click"
   ]
  },
  {
   "cell_type": "code",
   "execution_count": 86,
   "metadata": {},
   "outputs": [],
   "source": [
    "game.focus()\n",
    "game.up()"
   ]
  },
  {
   "cell_type": "markdown",
   "metadata": {},
   "source": [
    "# Parameters"
   ]
  },
  {
   "cell_type": "code",
   "execution_count": 13,
   "metadata": {},
   "outputs": [],
   "source": [
    "GAME = 'FlappyBird' # the name of the game being played for log files\n",
    "ACTIONS = 2 # number of valid actions (Nothing and up)\n",
    "GAMMA = 0.99 # decay rate of past observations\n",
    "OBSERVE = 100000. # timesteps to observe before training\n",
    "EXPLORE = 2000000. # frames over which to anneal epsilon\n",
    "FINAL_EPSILON = 0.0001 # final value of epsilon\n",
    "INITIAL_EPSILON = 0.0001 # starting value of epsilon\n",
    "REPLAY_MEMORY = 50000 # number of previous transitions to remember\n",
    "BATCH = 32 # size of minibatch\n",
    "FRAME_PER_ACTION = 1"
   ]
  },
  {
   "cell_type": "markdown",
   "metadata": {},
   "source": [
    "# Build model"
   ]
  },
  {
   "cell_type": "code",
   "execution_count": 102,
   "metadata": {},
   "outputs": [],
   "source": [
    "def weight_variable(shape):\n",
    "    initial = tf.truncated_normal(shape, stddev = 0.01)\n",
    "    return tf.Variable(initial)\n",
    "\n",
    "def bias_variable(shape):\n",
    "    initial = tf.constant(0.01, shape = shape)\n",
    "    return tf.Variable(initial)\n",
    "\n",
    "def conv2d(x, W, stride):\n",
    "    return tf.nn.conv2d(x, W, strides = [1, stride, stride, 1], padding = \"SAME\")\n",
    "\n",
    "def max_pool_2x2(x):\n",
    "    return tf.nn.max_pool(x, ksize = [1, 2, 2, 1], strides = [1, 2, 2, 1], padding = \"SAME\")\n",
    "\n",
    "def createNetwork():\n",
    "    # network weights\n",
    "    W_conv1 = weight_variable([6, 6, 4, 32])\n",
    "    b_conv1 = bias_variable([32])\n",
    "\n",
    "    W_conv2 = weight_variable([4, 4, 32, 64])\n",
    "    b_conv2 = bias_variable([64])\n",
    "\n",
    "    W_conv3 = weight_variable([3, 3, 64, 64])\n",
    "    b_conv3 = bias_variable([64])\n",
    "\n",
    "    W_fc1 = weight_variable([1600, 512])\n",
    "    b_fc1 = bias_variable([512])\n",
    "\n",
    "    W_fc2 = weight_variable([512, ACTIONS])\n",
    "    b_fc2 = bias_variable([ACTIONS])\n",
    "\n",
    "    # input layer\n",
    "    s = tf.placeholder(\"float\", [None, 60, 60, 4])\n",
    "\n",
    "    # hidden layers\n",
    "    h_conv1 = tf.nn.relu(conv2d(s, W_conv1, 4) + b_conv1)\n",
    "    h_pool1 = max_pool_2x2(h_conv1)\n",
    "\n",
    "    h_conv2 = tf.nn.relu(conv2d(h_pool1, W_conv2, 2) + b_conv2)\n",
    "    #h_pool2 = max_pool_2x2(h_conv2)\n",
    "\n",
    "    h_conv3 = tf.nn.relu(conv2d(h_conv2, W_conv3, 1) + b_conv3)\n",
    "    #h_pool3 = max_pool_2x2(h_conv3)\n",
    "\n",
    "    #h_pool3_flat = tf.reshape(h_pool3, [-1, 256])\n",
    "    h_conv3_flat = tf.reshape(h_conv3, [-1, 1600])\n",
    "\n",
    "    h_fc1 = tf.nn.relu(tf.matmul(h_conv3_flat, W_fc1) + b_fc1)\n",
    "\n",
    "    # readout layer\n",
    "    readout = tf.matmul(h_fc1, W_fc2) + b_fc2\n",
    "\n",
    "    return s, readout, h_fc1\n",
    "\n",
    "def trainNetwork(s, readout, h_fc1, sess):\n",
    "    # define the cost function\n",
    "    a = tf.placeholder(\"float\", [None, ACTIONS])\n",
    "    y = tf.placeholder(\"float\", [None])\n",
    "    readout_action = tf.reduce_sum(tf.multiply(readout, a), reduction_indices=1)\n",
    "    cost = tf.reduce_mean(tf.square(y - readout_action))\n",
    "    train_step = tf.train.AdamOptimizer(1e-6).minimize(cost)\n",
    "\n",
    "    # open up a game state to communicate with emulator\n",
    "    game = FlappyBirdGame(\"Flappy Bird\")\n",
    "\n",
    "    # store the previous observations in replay memory\n",
    "    D = deque()\n",
    "\n",
    "    # printing\n",
    "    a_file = open(\"logs_\" + GAME + \"/readout.txt\", 'w')\n",
    "    h_file = open(\"logs_\" + GAME + \"/hidden.txt\", 'w')\n",
    "\n",
    "    # get the first state by doing nothing and preprocess the image to 80x80x4\n",
    "    do_nothing = np.zeros(ACTIONS)\n",
    "    do_nothing[0] = 1\n",
    "    image, reward, terminal = game.play(0) # do nothing\n",
    "    s_image = np.stack((image, image, image, image), axis=2)\n",
    "\n",
    "    # saving and loading networks\n",
    "    saver = tf.train.Saver()\n",
    "    sess.run(tf.initialize_all_variables())\n",
    "    checkpoint = tf.train.get_checkpoint_state(\"saved_networks\")\n",
    "    if checkpoint and checkpoint.model_checkpoint_path:\n",
    "        saver.restore(sess, checkpoint.model_checkpoint_path)\n",
    "        print(\"Successfully loaded:\", checkpoint.model_checkpoint_path)\n",
    "    else:\n",
    "        print(\"Could not find old network weights\")\n",
    "\n",
    "    # start training\n",
    "    epsilon = INITIAL_EPSILON\n",
    "    t = 0\n",
    "\n",
    "    game.startRound()\n",
    "    \n",
    "    while True:\n",
    "        # choose an action epsilon greedily\n",
    "        readout_t = readout.eval(feed_dict={s : [s_image]})[0]\n",
    "        a_t = np.zeros([ACTIONS])\n",
    "        action_index = 0\n",
    "        if t % FRAME_PER_ACTION == 0:\n",
    "            if random.random() <= epsilon:\n",
    "                print(\"----------Random Action----------\")\n",
    "                action_index = random.randrange(ACTIONS)\n",
    "                a_t[random.randrange(ACTIONS)] = 1\n",
    "            else:\n",
    "                action_index = np.argmax(readout_t)\n",
    "                a_t[action_index] = 1\n",
    "        else:\n",
    "            a_t[0] = 1 # do nothing\n",
    "\n",
    "        # scale down epsilon\n",
    "        if epsilon > FINAL_EPSILON and t > OBSERVE:\n",
    "            epsilon -= (INITIAL_EPSILON - FINAL_EPSILON) / EXPLORE\n",
    "\n",
    "        # run the selected action and observe next state and reward\n",
    "        x_t1, r_t, terminal = game.play(a_t)\n",
    "        #s_image1 = np.append(x_t1, s_image[:,:,1:], axis = 2)\n",
    "        s_image1 = np.append(x_t1, s_image[:, :, :3], axis=2)\n",
    "\n",
    "        # store the transition in D\n",
    "        D.append((s_image, a_t, r_t, s_image1, terminal))\n",
    "        if len(D) > REPLAY_MEMORY:\n",
    "            D.popleft()\n",
    "\n",
    "        # only train if done observing\n",
    "        if t > OBSERVE:\n",
    "            # sample a minibatch to train on\n",
    "            minibatch = random.sample(D, BATCH)\n",
    "\n",
    "            # get the batch variables\n",
    "            s_j_batch = [d[0] for d in minibatch]\n",
    "            a_batch = [d[1] for d in minibatch]\n",
    "            r_batch = [d[2] for d in minibatch]\n",
    "            s_j1_batch = [d[3] for d in minibatch]\n",
    "\n",
    "            y_batch = []\n",
    "            readout_j1_batch = readout.eval(feed_dict = {s : s_j1_batch})\n",
    "            for i in range(0, len(minibatch)):\n",
    "                terminal = minibatch[i][4]\n",
    "                # if terminal, only equals reward\n",
    "                if terminal:\n",
    "                    y_batch.append(r_batch[i])\n",
    "                else:\n",
    "                    y_batch.append(r_batch[i] + GAMMA * np.max(readout_j1_batch[i]))\n",
    "\n",
    "            # perform gradient step\n",
    "            train_step.run(feed_dict = {\n",
    "                y : y_batch,\n",
    "                a : a_batch,\n",
    "                s : s_j_batch}\n",
    "            )\n",
    "\n",
    "        # update the old values\n",
    "        s_image = s_image1\n",
    "        t += 1\n",
    "\n",
    "        # save progress every 10000 iterations\n",
    "        if t % 10000 == 0:\n",
    "            saver.save(sess, 'saved_networks/' + GAME + '-dqn', global_step = t)\n",
    "\n",
    "        # print info\n",
    "        state = \"\"\n",
    "        if t <= OBSERVE:\n",
    "            state = \"observe\"\n",
    "        elif t > OBSERVE and t <= OBSERVE + EXPLORE:\n",
    "            state = \"explore\"\n",
    "        else:\n",
    "            state = \"train\"\n",
    "\n",
    "        print(\"TIMESTEP\", t, \"/ STATE\", state, \\\n",
    "            \"/ EPSILON\", epsilon, \"/ ACTION\", action_index, \"/ REWARD\", r_t, \\\n",
    "            \"/ Q_MAX %e\" % np.max(readout_t))"
   ]
  },
  {
   "cell_type": "markdown",
   "metadata": {},
   "source": [
    "# Run the training session"
   ]
  },
  {
   "cell_type": "code",
   "execution_count": 103,
   "metadata": {},
   "outputs": [],
   "source": [
    "def train():\n",
    "    sess = tf.InteractiveSession()\n",
    "    s, readout, h_fc1 = createNetwork()\n",
    "    trainNetwork(s, readout, h_fc1, sess)"
   ]
  },
  {
   "cell_type": "code",
   "execution_count": 106,
   "metadata": {},
   "outputs": [
    {
     "name": "stderr",
     "output_type": "stream",
     "text": [
      "/home/sylvain/.pyenv/versions/3.10.6/envs/FlappyBirdIA/lib/python3.10/site-packages/tensorflow/python/client/session.py:1768: UserWarning: An interactive session is already active. This can cause out-of-memory errors in some cases. You must explicitly call `InteractiveSession.close()` to release resources held by the other session(s).\n",
      "  warnings.warn('An interactive session is already active. This can '\n"
     ]
    },
    {
     "name": "stdout",
     "output_type": "stream",
     "text": [
      "Game Positions ↓\n",
      " - x : 1594 \n",
      " - y : 102 \n",
      " - width : 288 \n",
      " - height : 549\n",
      "WARNING:tensorflow:From /home/sylvain/.pyenv/versions/3.10.6/envs/FlappyBirdIA/lib/python3.10/site-packages/tensorflow/python/util/tf_should_use.py:243: initialize_all_variables (from tensorflow.python.ops.variables) is deprecated and will be removed after 2017-03-02.\n",
      "Instructions for updating:\n",
      "Use `tf.global_variables_initializer` instead.\n"
     ]
    },
    {
     "name": "stderr",
     "output_type": "stream",
     "text": [
      "2022-09-03 14:04:44.355604: I tensorflow/compiler/mlir/mlir_graph_optimization_pass.cc:354] MLIR V1 optimization pass is not enabled\n"
     ]
    },
    {
     "name": "stdout",
     "output_type": "stream",
     "text": [
      "Could not find old network weights\n"
     ]
    },
    {
     "ename": "InvalidArgumentError",
     "evalue": "Graph execution error:\n\nDetected at node 'Reshape_5' defined at (most recent call last):\n    File \"/home/sylvain/.pyenv/versions/3.10.6/lib/python3.10/runpy.py\", line 196, in _run_module_as_main\n      return _run_code(code, main_globals, None,\n    File \"/home/sylvain/.pyenv/versions/3.10.6/lib/python3.10/runpy.py\", line 86, in _run_code\n      exec(code, run_globals)\n    File \"/home/sylvain/.pyenv/versions/3.10.6/envs/FlappyBirdIA/lib/python3.10/site-packages/ipykernel_launcher.py\", line 17, in <module>\n      app.launch_new_instance()\n    File \"/home/sylvain/.pyenv/versions/3.10.6/envs/FlappyBirdIA/lib/python3.10/site-packages/traitlets/config/application.py\", line 976, in launch_instance\n      app.start()\n    File \"/home/sylvain/.pyenv/versions/3.10.6/envs/FlappyBirdIA/lib/python3.10/site-packages/ipykernel/kernelapp.py\", line 712, in start\n      self.io_loop.start()\n    File \"/home/sylvain/.pyenv/versions/3.10.6/envs/FlappyBirdIA/lib/python3.10/site-packages/tornado/platform/asyncio.py\", line 215, in start\n      self.asyncio_loop.run_forever()\n    File \"/home/sylvain/.pyenv/versions/3.10.6/lib/python3.10/asyncio/base_events.py\", line 600, in run_forever\n      self._run_once()\n    File \"/home/sylvain/.pyenv/versions/3.10.6/lib/python3.10/asyncio/base_events.py\", line 1896, in _run_once\n      handle._run()\n    File \"/home/sylvain/.pyenv/versions/3.10.6/lib/python3.10/asyncio/events.py\", line 80, in _run\n      self._context.run(self._callback, *self._args)\n    File \"/home/sylvain/.pyenv/versions/3.10.6/envs/FlappyBirdIA/lib/python3.10/site-packages/ipykernel/kernelbase.py\", line 510, in dispatch_queue\n      await self.process_one()\n    File \"/home/sylvain/.pyenv/versions/3.10.6/envs/FlappyBirdIA/lib/python3.10/site-packages/ipykernel/kernelbase.py\", line 499, in process_one\n      await dispatch(*args)\n    File \"/home/sylvain/.pyenv/versions/3.10.6/envs/FlappyBirdIA/lib/python3.10/site-packages/ipykernel/kernelbase.py\", line 406, in dispatch_shell\n      await result\n    File \"/home/sylvain/.pyenv/versions/3.10.6/envs/FlappyBirdIA/lib/python3.10/site-packages/ipykernel/kernelbase.py\", line 730, in execute_request\n      reply_content = await reply_content\n    File \"/home/sylvain/.pyenv/versions/3.10.6/envs/FlappyBirdIA/lib/python3.10/site-packages/ipykernel/ipkernel.py\", line 383, in do_execute\n      res = shell.run_cell(\n    File \"/home/sylvain/.pyenv/versions/3.10.6/envs/FlappyBirdIA/lib/python3.10/site-packages/ipykernel/zmqshell.py\", line 528, in run_cell\n      return super().run_cell(*args, **kwargs)\n    File \"/home/sylvain/.pyenv/versions/3.10.6/envs/FlappyBirdIA/lib/python3.10/site-packages/IPython/core/interactiveshell.py\", line 2881, in run_cell\n      result = self._run_cell(\n    File \"/home/sylvain/.pyenv/versions/3.10.6/envs/FlappyBirdIA/lib/python3.10/site-packages/IPython/core/interactiveshell.py\", line 2936, in _run_cell\n      return runner(coro)\n    File \"/home/sylvain/.pyenv/versions/3.10.6/envs/FlappyBirdIA/lib/python3.10/site-packages/IPython/core/async_helpers.py\", line 129, in _pseudo_sync_runner\n      coro.send(None)\n    File \"/home/sylvain/.pyenv/versions/3.10.6/envs/FlappyBirdIA/lib/python3.10/site-packages/IPython/core/interactiveshell.py\", line 3135, in run_cell_async\n      has_raised = await self.run_ast_nodes(code_ast.body, cell_name,\n    File \"/home/sylvain/.pyenv/versions/3.10.6/envs/FlappyBirdIA/lib/python3.10/site-packages/IPython/core/interactiveshell.py\", line 3338, in run_ast_nodes\n      if await self.run_code(code, result, async_=asy):\n    File \"/home/sylvain/.pyenv/versions/3.10.6/envs/FlappyBirdIA/lib/python3.10/site-packages/IPython/core/interactiveshell.py\", line 3398, in run_code\n      exec(code_obj, self.user_global_ns, self.user_ns)\n    File \"/tmp/ipykernel_18789/3364925475.py\", line 1, in <cell line: 1>\n      train()\n    File \"/tmp/ipykernel_18789/3362370060.py\", line 3, in train\n      s, readout, h_fc1 = createNetwork()\n    File \"/tmp/ipykernel_18789/3894975743.py\", line 46, in createNetwork\n      h_conv3_flat = tf.reshape(h_conv3, [-1, 1600])\nNode: 'Reshape_5'\nInput to reshape is a tensor with 1024 values, but the requested shape requires a multiple of 1600\n\t [[{{node Reshape_5}}]]\n\nOriginal stack trace for 'Reshape_5':\n  File \"/home/sylvain/.pyenv/versions/3.10.6/lib/python3.10/runpy.py\", line 196, in _run_module_as_main\n    return _run_code(code, main_globals, None,\n  File \"/home/sylvain/.pyenv/versions/3.10.6/lib/python3.10/runpy.py\", line 86, in _run_code\n    exec(code, run_globals)\n  File \"/home/sylvain/.pyenv/versions/3.10.6/envs/FlappyBirdIA/lib/python3.10/site-packages/ipykernel_launcher.py\", line 17, in <module>\n    app.launch_new_instance()\n  File \"/home/sylvain/.pyenv/versions/3.10.6/envs/FlappyBirdIA/lib/python3.10/site-packages/traitlets/config/application.py\", line 976, in launch_instance\n    app.start()\n  File \"/home/sylvain/.pyenv/versions/3.10.6/envs/FlappyBirdIA/lib/python3.10/site-packages/ipykernel/kernelapp.py\", line 712, in start\n    self.io_loop.start()\n  File \"/home/sylvain/.pyenv/versions/3.10.6/envs/FlappyBirdIA/lib/python3.10/site-packages/tornado/platform/asyncio.py\", line 215, in start\n    self.asyncio_loop.run_forever()\n  File \"/home/sylvain/.pyenv/versions/3.10.6/lib/python3.10/asyncio/base_events.py\", line 600, in run_forever\n    self._run_once()\n  File \"/home/sylvain/.pyenv/versions/3.10.6/lib/python3.10/asyncio/base_events.py\", line 1896, in _run_once\n    handle._run()\n  File \"/home/sylvain/.pyenv/versions/3.10.6/lib/python3.10/asyncio/events.py\", line 80, in _run\n    self._context.run(self._callback, *self._args)\n  File \"/home/sylvain/.pyenv/versions/3.10.6/envs/FlappyBirdIA/lib/python3.10/site-packages/ipykernel/kernelbase.py\", line 510, in dispatch_queue\n    await self.process_one()\n  File \"/home/sylvain/.pyenv/versions/3.10.6/envs/FlappyBirdIA/lib/python3.10/site-packages/ipykernel/kernelbase.py\", line 499, in process_one\n    await dispatch(*args)\n  File \"/home/sylvain/.pyenv/versions/3.10.6/envs/FlappyBirdIA/lib/python3.10/site-packages/ipykernel/kernelbase.py\", line 406, in dispatch_shell\n    await result\n  File \"/home/sylvain/.pyenv/versions/3.10.6/envs/FlappyBirdIA/lib/python3.10/site-packages/ipykernel/kernelbase.py\", line 730, in execute_request\n    reply_content = await reply_content\n  File \"/home/sylvain/.pyenv/versions/3.10.6/envs/FlappyBirdIA/lib/python3.10/site-packages/ipykernel/ipkernel.py\", line 383, in do_execute\n    res = shell.run_cell(\n  File \"/home/sylvain/.pyenv/versions/3.10.6/envs/FlappyBirdIA/lib/python3.10/site-packages/ipykernel/zmqshell.py\", line 528, in run_cell\n    return super().run_cell(*args, **kwargs)\n  File \"/home/sylvain/.pyenv/versions/3.10.6/envs/FlappyBirdIA/lib/python3.10/site-packages/IPython/core/interactiveshell.py\", line 2881, in run_cell\n    result = self._run_cell(\n  File \"/home/sylvain/.pyenv/versions/3.10.6/envs/FlappyBirdIA/lib/python3.10/site-packages/IPython/core/interactiveshell.py\", line 2936, in _run_cell\n    return runner(coro)\n  File \"/home/sylvain/.pyenv/versions/3.10.6/envs/FlappyBirdIA/lib/python3.10/site-packages/IPython/core/async_helpers.py\", line 129, in _pseudo_sync_runner\n    coro.send(None)\n  File \"/home/sylvain/.pyenv/versions/3.10.6/envs/FlappyBirdIA/lib/python3.10/site-packages/IPython/core/interactiveshell.py\", line 3135, in run_cell_async\n    has_raised = await self.run_ast_nodes(code_ast.body, cell_name,\n  File \"/home/sylvain/.pyenv/versions/3.10.6/envs/FlappyBirdIA/lib/python3.10/site-packages/IPython/core/interactiveshell.py\", line 3338, in run_ast_nodes\n    if await self.run_code(code, result, async_=asy):\n  File \"/home/sylvain/.pyenv/versions/3.10.6/envs/FlappyBirdIA/lib/python3.10/site-packages/IPython/core/interactiveshell.py\", line 3398, in run_code\n    exec(code_obj, self.user_global_ns, self.user_ns)\n  File \"/tmp/ipykernel_18789/3364925475.py\", line 1, in <cell line: 1>\n    train()\n  File \"/tmp/ipykernel_18789/3362370060.py\", line 3, in train\n    s, readout, h_fc1 = createNetwork()\n  File \"/tmp/ipykernel_18789/3894975743.py\", line 46, in createNetwork\n    h_conv3_flat = tf.reshape(h_conv3, [-1, 1600])\n  File \"/home/sylvain/.pyenv/versions/3.10.6/envs/FlappyBirdIA/lib/python3.10/site-packages/tensorflow/python/util/traceback_utils.py\", line 150, in error_handler\n    return fn(*args, **kwargs)\n  File \"/home/sylvain/.pyenv/versions/3.10.6/envs/FlappyBirdIA/lib/python3.10/site-packages/tensorflow/python/util/dispatch.py\", line 1082, in op_dispatch_handler\n    return dispatch_target(*args, **kwargs)\n  File \"/home/sylvain/.pyenv/versions/3.10.6/envs/FlappyBirdIA/lib/python3.10/site-packages/tensorflow/python/ops/array_ops.py\", line 202, in reshape\n    result = gen_array_ops.reshape(tensor, shape, name)\n  File \"/home/sylvain/.pyenv/versions/3.10.6/envs/FlappyBirdIA/lib/python3.10/site-packages/tensorflow/python/ops/gen_array_ops.py\", line 8546, in reshape\n    _, _, _op, _outputs = _op_def_library._apply_op_helper(\n  File \"/home/sylvain/.pyenv/versions/3.10.6/envs/FlappyBirdIA/lib/python3.10/site-packages/tensorflow/python/framework/op_def_library.py\", line 797, in _apply_op_helper\n    op = g._create_op_internal(op_type_name, inputs, dtypes=None,\n  File \"/home/sylvain/.pyenv/versions/3.10.6/envs/FlappyBirdIA/lib/python3.10/site-packages/tensorflow/python/framework/ops.py\", line 3754, in _create_op_internal\n    ret = Operation(\n  File \"/home/sylvain/.pyenv/versions/3.10.6/envs/FlappyBirdIA/lib/python3.10/site-packages/tensorflow/python/framework/ops.py\", line 2133, in __init__\n    self._traceback = tf_stack.extract_stack_for_node(self._c_op)\n",
     "output_type": "error",
     "traceback": [
      "\u001b[0;31m---------------------------------------------------------------------------\u001b[0m",
      "\u001b[0;31mInvalidArgumentError\u001b[0m                      Traceback (most recent call last)",
      "File \u001b[0;32m~/.pyenv/versions/3.10.6/envs/FlappyBirdIA/lib/python3.10/site-packages/tensorflow/python/client/session.py:1377\u001b[0m, in \u001b[0;36mBaseSession._do_call\u001b[0;34m(self, fn, *args)\u001b[0m\n\u001b[1;32m   1376\u001b[0m \u001b[39mtry\u001b[39;00m:\n\u001b[0;32m-> 1377\u001b[0m   \u001b[39mreturn\u001b[39;00m fn(\u001b[39m*\u001b[39;49margs)\n\u001b[1;32m   1378\u001b[0m \u001b[39mexcept\u001b[39;00m errors\u001b[39m.\u001b[39mOpError \u001b[39mas\u001b[39;00m e:\n",
      "File \u001b[0;32m~/.pyenv/versions/3.10.6/envs/FlappyBirdIA/lib/python3.10/site-packages/tensorflow/python/client/session.py:1360\u001b[0m, in \u001b[0;36mBaseSession._do_run.<locals>._run_fn\u001b[0;34m(feed_dict, fetch_list, target_list, options, run_metadata)\u001b[0m\n\u001b[1;32m   1359\u001b[0m \u001b[39mself\u001b[39m\u001b[39m.\u001b[39m_extend_graph()\n\u001b[0;32m-> 1360\u001b[0m \u001b[39mreturn\u001b[39;00m \u001b[39mself\u001b[39;49m\u001b[39m.\u001b[39;49m_call_tf_sessionrun(options, feed_dict, fetch_list,\n\u001b[1;32m   1361\u001b[0m                                 target_list, run_metadata)\n",
      "File \u001b[0;32m~/.pyenv/versions/3.10.6/envs/FlappyBirdIA/lib/python3.10/site-packages/tensorflow/python/client/session.py:1453\u001b[0m, in \u001b[0;36mBaseSession._call_tf_sessionrun\u001b[0;34m(self, options, feed_dict, fetch_list, target_list, run_metadata)\u001b[0m\n\u001b[1;32m   1451\u001b[0m \u001b[39mdef\u001b[39;00m \u001b[39m_call_tf_sessionrun\u001b[39m(\u001b[39mself\u001b[39m, options, feed_dict, fetch_list, target_list,\n\u001b[1;32m   1452\u001b[0m                         run_metadata):\n\u001b[0;32m-> 1453\u001b[0m   \u001b[39mreturn\u001b[39;00m tf_session\u001b[39m.\u001b[39;49mTF_SessionRun_wrapper(\u001b[39mself\u001b[39;49m\u001b[39m.\u001b[39;49m_session, options, feed_dict,\n\u001b[1;32m   1454\u001b[0m                                           fetch_list, target_list,\n\u001b[1;32m   1455\u001b[0m                                           run_metadata)\n",
      "\u001b[0;31mInvalidArgumentError\u001b[0m: Input to reshape is a tensor with 1024 values, but the requested shape requires a multiple of 1600\n\t [[{{node Reshape_5}}]]",
      "\nDuring handling of the above exception, another exception occurred:\n",
      "\u001b[0;31mInvalidArgumentError\u001b[0m                      Traceback (most recent call last)",
      "\u001b[1;32m/home/sylvain/Projets/FlappyBirdAI/training_model.ipynb Cell 21\u001b[0m in \u001b[0;36m<cell line: 1>\u001b[0;34m()\u001b[0m\n\u001b[0;32m----> <a href='vscode-notebook-cell:/home/sylvain/Projets/FlappyBirdAI/training_model.ipynb#ch0000026?line=0'>1</a>\u001b[0m train()\n",
      "\u001b[1;32m/home/sylvain/Projets/FlappyBirdAI/training_model.ipynb Cell 21\u001b[0m in \u001b[0;36mtrain\u001b[0;34m()\u001b[0m\n\u001b[1;32m      <a href='vscode-notebook-cell:/home/sylvain/Projets/FlappyBirdAI/training_model.ipynb#ch0000026?line=1'>2</a>\u001b[0m sess \u001b[39m=\u001b[39m tf\u001b[39m.\u001b[39mInteractiveSession()\n\u001b[1;32m      <a href='vscode-notebook-cell:/home/sylvain/Projets/FlappyBirdAI/training_model.ipynb#ch0000026?line=2'>3</a>\u001b[0m s, readout, h_fc1 \u001b[39m=\u001b[39m createNetwork()\n\u001b[0;32m----> <a href='vscode-notebook-cell:/home/sylvain/Projets/FlappyBirdAI/training_model.ipynb#ch0000026?line=3'>4</a>\u001b[0m trainNetwork(s, readout, h_fc1, sess)\n",
      "\u001b[1;32m/home/sylvain/Projets/FlappyBirdAI/training_model.ipynb Cell 21\u001b[0m in \u001b[0;36mtrainNetwork\u001b[0;34m(s, readout, h_fc1, sess)\u001b[0m\n\u001b[1;32m     <a href='vscode-notebook-cell:/home/sylvain/Projets/FlappyBirdAI/training_model.ipynb#ch0000026?line=92'>93</a>\u001b[0m game\u001b[39m.\u001b[39mstartRound()\n\u001b[1;32m     <a href='vscode-notebook-cell:/home/sylvain/Projets/FlappyBirdAI/training_model.ipynb#ch0000026?line=94'>95</a>\u001b[0m \u001b[39mwhile\u001b[39;00m \u001b[39mTrue\u001b[39;00m:\n\u001b[1;32m     <a href='vscode-notebook-cell:/home/sylvain/Projets/FlappyBirdAI/training_model.ipynb#ch0000026?line=95'>96</a>\u001b[0m     \u001b[39m# choose an action epsilon greedily\u001b[39;00m\n\u001b[0;32m---> <a href='vscode-notebook-cell:/home/sylvain/Projets/FlappyBirdAI/training_model.ipynb#ch0000026?line=96'>97</a>\u001b[0m     readout_t \u001b[39m=\u001b[39m readout\u001b[39m.\u001b[39;49meval(feed_dict\u001b[39m=\u001b[39;49m{s : [s_image]})[\u001b[39m0\u001b[39m]\n\u001b[1;32m     <a href='vscode-notebook-cell:/home/sylvain/Projets/FlappyBirdAI/training_model.ipynb#ch0000026?line=97'>98</a>\u001b[0m     a_t \u001b[39m=\u001b[39m np\u001b[39m.\u001b[39mzeros([ACTIONS])\n\u001b[1;32m     <a href='vscode-notebook-cell:/home/sylvain/Projets/FlappyBirdAI/training_model.ipynb#ch0000026?line=98'>99</a>\u001b[0m     action_index \u001b[39m=\u001b[39m \u001b[39m0\u001b[39m\n",
      "File \u001b[0;32m~/.pyenv/versions/3.10.6/envs/FlappyBirdIA/lib/python3.10/site-packages/tensorflow/python/framework/ops.py:995\u001b[0m, in \u001b[0;36mTensor.eval\u001b[0;34m(self, feed_dict, session)\u001b[0m\n\u001b[1;32m    971\u001b[0m \u001b[39mdef\u001b[39;00m \u001b[39meval\u001b[39m(\u001b[39mself\u001b[39m, feed_dict\u001b[39m=\u001b[39m\u001b[39mNone\u001b[39;00m, session\u001b[39m=\u001b[39m\u001b[39mNone\u001b[39;00m):\n\u001b[1;32m    972\u001b[0m   \u001b[39m\"\"\"Evaluates this tensor in a `Session`.\u001b[39;00m\n\u001b[1;32m    973\u001b[0m \n\u001b[1;32m    974\u001b[0m \u001b[39m  Note: If you are not using `compat.v1` libraries, you should not need this,\u001b[39;00m\n\u001b[0;32m   (...)\u001b[0m\n\u001b[1;32m    993\u001b[0m \u001b[39m    A numpy array corresponding to the value of this tensor.\u001b[39;00m\n\u001b[1;32m    994\u001b[0m \u001b[39m  \"\"\"\u001b[39;00m\n\u001b[0;32m--> 995\u001b[0m   \u001b[39mreturn\u001b[39;00m _eval_using_default_session(\u001b[39mself\u001b[39;49m, feed_dict, \u001b[39mself\u001b[39;49m\u001b[39m.\u001b[39;49mgraph, session)\n",
      "File \u001b[0;32m~/.pyenv/versions/3.10.6/envs/FlappyBirdIA/lib/python3.10/site-packages/tensorflow/python/framework/ops.py:5747\u001b[0m, in \u001b[0;36m_eval_using_default_session\u001b[0;34m(tensors, feed_dict, graph, session)\u001b[0m\n\u001b[1;32m   5743\u001b[0m   \u001b[39mif\u001b[39;00m session\u001b[39m.\u001b[39mgraph \u001b[39mis\u001b[39;00m \u001b[39mnot\u001b[39;00m graph:\n\u001b[1;32m   5744\u001b[0m     \u001b[39mraise\u001b[39;00m \u001b[39mValueError\u001b[39;00m(\u001b[39m\"\u001b[39m\u001b[39mCannot use the given session to evaluate tensor: \u001b[39m\u001b[39m\"\u001b[39m\n\u001b[1;32m   5745\u001b[0m                      \u001b[39m\"\u001b[39m\u001b[39mthe tensor\u001b[39m\u001b[39m'\u001b[39m\u001b[39ms graph is different from the session\u001b[39m\u001b[39m'\u001b[39m\u001b[39ms \u001b[39m\u001b[39m\"\u001b[39m\n\u001b[1;32m   5746\u001b[0m                      \u001b[39m\"\u001b[39m\u001b[39mgraph.\u001b[39m\u001b[39m\"\u001b[39m)\n\u001b[0;32m-> 5747\u001b[0m \u001b[39mreturn\u001b[39;00m session\u001b[39m.\u001b[39;49mrun(tensors, feed_dict)\n",
      "File \u001b[0;32m~/.pyenv/versions/3.10.6/envs/FlappyBirdIA/lib/python3.10/site-packages/tensorflow/python/client/session.py:967\u001b[0m, in \u001b[0;36mBaseSession.run\u001b[0;34m(self, fetches, feed_dict, options, run_metadata)\u001b[0m\n\u001b[1;32m    964\u001b[0m run_metadata_ptr \u001b[39m=\u001b[39m tf_session\u001b[39m.\u001b[39mTF_NewBuffer() \u001b[39mif\u001b[39;00m run_metadata \u001b[39melse\u001b[39;00m \u001b[39mNone\u001b[39;00m\n\u001b[1;32m    966\u001b[0m \u001b[39mtry\u001b[39;00m:\n\u001b[0;32m--> 967\u001b[0m   result \u001b[39m=\u001b[39m \u001b[39mself\u001b[39;49m\u001b[39m.\u001b[39;49m_run(\u001b[39mNone\u001b[39;49;00m, fetches, feed_dict, options_ptr,\n\u001b[1;32m    968\u001b[0m                      run_metadata_ptr)\n\u001b[1;32m    969\u001b[0m   \u001b[39mif\u001b[39;00m run_metadata:\n\u001b[1;32m    970\u001b[0m     proto_data \u001b[39m=\u001b[39m tf_session\u001b[39m.\u001b[39mTF_GetBuffer(run_metadata_ptr)\n",
      "File \u001b[0;32m~/.pyenv/versions/3.10.6/envs/FlappyBirdIA/lib/python3.10/site-packages/tensorflow/python/client/session.py:1190\u001b[0m, in \u001b[0;36mBaseSession._run\u001b[0;34m(self, handle, fetches, feed_dict, options, run_metadata)\u001b[0m\n\u001b[1;32m   1187\u001b[0m \u001b[39m# We only want to really perform the run if fetches or targets are provided,\u001b[39;00m\n\u001b[1;32m   1188\u001b[0m \u001b[39m# or if the call is a partial run that specifies feeds.\u001b[39;00m\n\u001b[1;32m   1189\u001b[0m \u001b[39mif\u001b[39;00m final_fetches \u001b[39mor\u001b[39;00m final_targets \u001b[39mor\u001b[39;00m (handle \u001b[39mand\u001b[39;00m feed_dict_tensor):\n\u001b[0;32m-> 1190\u001b[0m   results \u001b[39m=\u001b[39m \u001b[39mself\u001b[39;49m\u001b[39m.\u001b[39;49m_do_run(handle, final_targets, final_fetches,\n\u001b[1;32m   1191\u001b[0m                          feed_dict_tensor, options, run_metadata)\n\u001b[1;32m   1192\u001b[0m \u001b[39melse\u001b[39;00m:\n\u001b[1;32m   1193\u001b[0m   results \u001b[39m=\u001b[39m []\n",
      "File \u001b[0;32m~/.pyenv/versions/3.10.6/envs/FlappyBirdIA/lib/python3.10/site-packages/tensorflow/python/client/session.py:1370\u001b[0m, in \u001b[0;36mBaseSession._do_run\u001b[0;34m(self, handle, target_list, fetch_list, feed_dict, options, run_metadata)\u001b[0m\n\u001b[1;32m   1367\u001b[0m   \u001b[39mreturn\u001b[39;00m \u001b[39mself\u001b[39m\u001b[39m.\u001b[39m_call_tf_sessionprun(handle, feed_dict, fetch_list)\n\u001b[1;32m   1369\u001b[0m \u001b[39mif\u001b[39;00m handle \u001b[39mis\u001b[39;00m \u001b[39mNone\u001b[39;00m:\n\u001b[0;32m-> 1370\u001b[0m   \u001b[39mreturn\u001b[39;00m \u001b[39mself\u001b[39;49m\u001b[39m.\u001b[39;49m_do_call(_run_fn, feeds, fetches, targets, options,\n\u001b[1;32m   1371\u001b[0m                        run_metadata)\n\u001b[1;32m   1372\u001b[0m \u001b[39melse\u001b[39;00m:\n\u001b[1;32m   1373\u001b[0m   \u001b[39mreturn\u001b[39;00m \u001b[39mself\u001b[39m\u001b[39m.\u001b[39m_do_call(_prun_fn, handle, feeds, fetches)\n",
      "File \u001b[0;32m~/.pyenv/versions/3.10.6/envs/FlappyBirdIA/lib/python3.10/site-packages/tensorflow/python/client/session.py:1396\u001b[0m, in \u001b[0;36mBaseSession._do_call\u001b[0;34m(self, fn, *args)\u001b[0m\n\u001b[1;32m   1391\u001b[0m \u001b[39mif\u001b[39;00m \u001b[39m'\u001b[39m\u001b[39monly supports NHWC tensor format\u001b[39m\u001b[39m'\u001b[39m \u001b[39min\u001b[39;00m message:\n\u001b[1;32m   1392\u001b[0m   message \u001b[39m+\u001b[39m\u001b[39m=\u001b[39m (\u001b[39m'\u001b[39m\u001b[39m\\n\u001b[39;00m\u001b[39mA possible workaround: Try disabling Grappler optimizer\u001b[39m\u001b[39m'\u001b[39m\n\u001b[1;32m   1393\u001b[0m               \u001b[39m'\u001b[39m\u001b[39m\\n\u001b[39;00m\u001b[39mby modifying the config for creating the session eg.\u001b[39m\u001b[39m'\u001b[39m\n\u001b[1;32m   1394\u001b[0m               \u001b[39m'\u001b[39m\u001b[39m\\n\u001b[39;00m\u001b[39msession_config.graph_options.rewrite_options.\u001b[39m\u001b[39m'\u001b[39m\n\u001b[1;32m   1395\u001b[0m               \u001b[39m'\u001b[39m\u001b[39mdisable_meta_optimizer = True\u001b[39m\u001b[39m'\u001b[39m)\n\u001b[0;32m-> 1396\u001b[0m \u001b[39mraise\u001b[39;00m \u001b[39mtype\u001b[39m(e)(node_def, op, message)\n",
      "\u001b[0;31mInvalidArgumentError\u001b[0m: Graph execution error:\n\nDetected at node 'Reshape_5' defined at (most recent call last):\n    File \"/home/sylvain/.pyenv/versions/3.10.6/lib/python3.10/runpy.py\", line 196, in _run_module_as_main\n      return _run_code(code, main_globals, None,\n    File \"/home/sylvain/.pyenv/versions/3.10.6/lib/python3.10/runpy.py\", line 86, in _run_code\n      exec(code, run_globals)\n    File \"/home/sylvain/.pyenv/versions/3.10.6/envs/FlappyBirdIA/lib/python3.10/site-packages/ipykernel_launcher.py\", line 17, in <module>\n      app.launch_new_instance()\n    File \"/home/sylvain/.pyenv/versions/3.10.6/envs/FlappyBirdIA/lib/python3.10/site-packages/traitlets/config/application.py\", line 976, in launch_instance\n      app.start()\n    File \"/home/sylvain/.pyenv/versions/3.10.6/envs/FlappyBirdIA/lib/python3.10/site-packages/ipykernel/kernelapp.py\", line 712, in start\n      self.io_loop.start()\n    File \"/home/sylvain/.pyenv/versions/3.10.6/envs/FlappyBirdIA/lib/python3.10/site-packages/tornado/platform/asyncio.py\", line 215, in start\n      self.asyncio_loop.run_forever()\n    File \"/home/sylvain/.pyenv/versions/3.10.6/lib/python3.10/asyncio/base_events.py\", line 600, in run_forever\n      self._run_once()\n    File \"/home/sylvain/.pyenv/versions/3.10.6/lib/python3.10/asyncio/base_events.py\", line 1896, in _run_once\n      handle._run()\n    File \"/home/sylvain/.pyenv/versions/3.10.6/lib/python3.10/asyncio/events.py\", line 80, in _run\n      self._context.run(self._callback, *self._args)\n    File \"/home/sylvain/.pyenv/versions/3.10.6/envs/FlappyBirdIA/lib/python3.10/site-packages/ipykernel/kernelbase.py\", line 510, in dispatch_queue\n      await self.process_one()\n    File \"/home/sylvain/.pyenv/versions/3.10.6/envs/FlappyBirdIA/lib/python3.10/site-packages/ipykernel/kernelbase.py\", line 499, in process_one\n      await dispatch(*args)\n    File \"/home/sylvain/.pyenv/versions/3.10.6/envs/FlappyBirdIA/lib/python3.10/site-packages/ipykernel/kernelbase.py\", line 406, in dispatch_shell\n      await result\n    File \"/home/sylvain/.pyenv/versions/3.10.6/envs/FlappyBirdIA/lib/python3.10/site-packages/ipykernel/kernelbase.py\", line 730, in execute_request\n      reply_content = await reply_content\n    File \"/home/sylvain/.pyenv/versions/3.10.6/envs/FlappyBirdIA/lib/python3.10/site-packages/ipykernel/ipkernel.py\", line 383, in do_execute\n      res = shell.run_cell(\n    File \"/home/sylvain/.pyenv/versions/3.10.6/envs/FlappyBirdIA/lib/python3.10/site-packages/ipykernel/zmqshell.py\", line 528, in run_cell\n      return super().run_cell(*args, **kwargs)\n    File \"/home/sylvain/.pyenv/versions/3.10.6/envs/FlappyBirdIA/lib/python3.10/site-packages/IPython/core/interactiveshell.py\", line 2881, in run_cell\n      result = self._run_cell(\n    File \"/home/sylvain/.pyenv/versions/3.10.6/envs/FlappyBirdIA/lib/python3.10/site-packages/IPython/core/interactiveshell.py\", line 2936, in _run_cell\n      return runner(coro)\n    File \"/home/sylvain/.pyenv/versions/3.10.6/envs/FlappyBirdIA/lib/python3.10/site-packages/IPython/core/async_helpers.py\", line 129, in _pseudo_sync_runner\n      coro.send(None)\n    File \"/home/sylvain/.pyenv/versions/3.10.6/envs/FlappyBirdIA/lib/python3.10/site-packages/IPython/core/interactiveshell.py\", line 3135, in run_cell_async\n      has_raised = await self.run_ast_nodes(code_ast.body, cell_name,\n    File \"/home/sylvain/.pyenv/versions/3.10.6/envs/FlappyBirdIA/lib/python3.10/site-packages/IPython/core/interactiveshell.py\", line 3338, in run_ast_nodes\n      if await self.run_code(code, result, async_=asy):\n    File \"/home/sylvain/.pyenv/versions/3.10.6/envs/FlappyBirdIA/lib/python3.10/site-packages/IPython/core/interactiveshell.py\", line 3398, in run_code\n      exec(code_obj, self.user_global_ns, self.user_ns)\n    File \"/tmp/ipykernel_18789/3364925475.py\", line 1, in <cell line: 1>\n      train()\n    File \"/tmp/ipykernel_18789/3362370060.py\", line 3, in train\n      s, readout, h_fc1 = createNetwork()\n    File \"/tmp/ipykernel_18789/3894975743.py\", line 46, in createNetwork\n      h_conv3_flat = tf.reshape(h_conv3, [-1, 1600])\nNode: 'Reshape_5'\nInput to reshape is a tensor with 1024 values, but the requested shape requires a multiple of 1600\n\t [[{{node Reshape_5}}]]\n\nOriginal stack trace for 'Reshape_5':\n  File \"/home/sylvain/.pyenv/versions/3.10.6/lib/python3.10/runpy.py\", line 196, in _run_module_as_main\n    return _run_code(code, main_globals, None,\n  File \"/home/sylvain/.pyenv/versions/3.10.6/lib/python3.10/runpy.py\", line 86, in _run_code\n    exec(code, run_globals)\n  File \"/home/sylvain/.pyenv/versions/3.10.6/envs/FlappyBirdIA/lib/python3.10/site-packages/ipykernel_launcher.py\", line 17, in <module>\n    app.launch_new_instance()\n  File \"/home/sylvain/.pyenv/versions/3.10.6/envs/FlappyBirdIA/lib/python3.10/site-packages/traitlets/config/application.py\", line 976, in launch_instance\n    app.start()\n  File \"/home/sylvain/.pyenv/versions/3.10.6/envs/FlappyBirdIA/lib/python3.10/site-packages/ipykernel/kernelapp.py\", line 712, in start\n    self.io_loop.start()\n  File \"/home/sylvain/.pyenv/versions/3.10.6/envs/FlappyBirdIA/lib/python3.10/site-packages/tornado/platform/asyncio.py\", line 215, in start\n    self.asyncio_loop.run_forever()\n  File \"/home/sylvain/.pyenv/versions/3.10.6/lib/python3.10/asyncio/base_events.py\", line 600, in run_forever\n    self._run_once()\n  File \"/home/sylvain/.pyenv/versions/3.10.6/lib/python3.10/asyncio/base_events.py\", line 1896, in _run_once\n    handle._run()\n  File \"/home/sylvain/.pyenv/versions/3.10.6/lib/python3.10/asyncio/events.py\", line 80, in _run\n    self._context.run(self._callback, *self._args)\n  File \"/home/sylvain/.pyenv/versions/3.10.6/envs/FlappyBirdIA/lib/python3.10/site-packages/ipykernel/kernelbase.py\", line 510, in dispatch_queue\n    await self.process_one()\n  File \"/home/sylvain/.pyenv/versions/3.10.6/envs/FlappyBirdIA/lib/python3.10/site-packages/ipykernel/kernelbase.py\", line 499, in process_one\n    await dispatch(*args)\n  File \"/home/sylvain/.pyenv/versions/3.10.6/envs/FlappyBirdIA/lib/python3.10/site-packages/ipykernel/kernelbase.py\", line 406, in dispatch_shell\n    await result\n  File \"/home/sylvain/.pyenv/versions/3.10.6/envs/FlappyBirdIA/lib/python3.10/site-packages/ipykernel/kernelbase.py\", line 730, in execute_request\n    reply_content = await reply_content\n  File \"/home/sylvain/.pyenv/versions/3.10.6/envs/FlappyBirdIA/lib/python3.10/site-packages/ipykernel/ipkernel.py\", line 383, in do_execute\n    res = shell.run_cell(\n  File \"/home/sylvain/.pyenv/versions/3.10.6/envs/FlappyBirdIA/lib/python3.10/site-packages/ipykernel/zmqshell.py\", line 528, in run_cell\n    return super().run_cell(*args, **kwargs)\n  File \"/home/sylvain/.pyenv/versions/3.10.6/envs/FlappyBirdIA/lib/python3.10/site-packages/IPython/core/interactiveshell.py\", line 2881, in run_cell\n    result = self._run_cell(\n  File \"/home/sylvain/.pyenv/versions/3.10.6/envs/FlappyBirdIA/lib/python3.10/site-packages/IPython/core/interactiveshell.py\", line 2936, in _run_cell\n    return runner(coro)\n  File \"/home/sylvain/.pyenv/versions/3.10.6/envs/FlappyBirdIA/lib/python3.10/site-packages/IPython/core/async_helpers.py\", line 129, in _pseudo_sync_runner\n    coro.send(None)\n  File \"/home/sylvain/.pyenv/versions/3.10.6/envs/FlappyBirdIA/lib/python3.10/site-packages/IPython/core/interactiveshell.py\", line 3135, in run_cell_async\n    has_raised = await self.run_ast_nodes(code_ast.body, cell_name,\n  File \"/home/sylvain/.pyenv/versions/3.10.6/envs/FlappyBirdIA/lib/python3.10/site-packages/IPython/core/interactiveshell.py\", line 3338, in run_ast_nodes\n    if await self.run_code(code, result, async_=asy):\n  File \"/home/sylvain/.pyenv/versions/3.10.6/envs/FlappyBirdIA/lib/python3.10/site-packages/IPython/core/interactiveshell.py\", line 3398, in run_code\n    exec(code_obj, self.user_global_ns, self.user_ns)\n  File \"/tmp/ipykernel_18789/3364925475.py\", line 1, in <cell line: 1>\n    train()\n  File \"/tmp/ipykernel_18789/3362370060.py\", line 3, in train\n    s, readout, h_fc1 = createNetwork()\n  File \"/tmp/ipykernel_18789/3894975743.py\", line 46, in createNetwork\n    h_conv3_flat = tf.reshape(h_conv3, [-1, 1600])\n  File \"/home/sylvain/.pyenv/versions/3.10.6/envs/FlappyBirdIA/lib/python3.10/site-packages/tensorflow/python/util/traceback_utils.py\", line 150, in error_handler\n    return fn(*args, **kwargs)\n  File \"/home/sylvain/.pyenv/versions/3.10.6/envs/FlappyBirdIA/lib/python3.10/site-packages/tensorflow/python/util/dispatch.py\", line 1082, in op_dispatch_handler\n    return dispatch_target(*args, **kwargs)\n  File \"/home/sylvain/.pyenv/versions/3.10.6/envs/FlappyBirdIA/lib/python3.10/site-packages/tensorflow/python/ops/array_ops.py\", line 202, in reshape\n    result = gen_array_ops.reshape(tensor, shape, name)\n  File \"/home/sylvain/.pyenv/versions/3.10.6/envs/FlappyBirdIA/lib/python3.10/site-packages/tensorflow/python/ops/gen_array_ops.py\", line 8546, in reshape\n    _, _, _op, _outputs = _op_def_library._apply_op_helper(\n  File \"/home/sylvain/.pyenv/versions/3.10.6/envs/FlappyBirdIA/lib/python3.10/site-packages/tensorflow/python/framework/op_def_library.py\", line 797, in _apply_op_helper\n    op = g._create_op_internal(op_type_name, inputs, dtypes=None,\n  File \"/home/sylvain/.pyenv/versions/3.10.6/envs/FlappyBirdIA/lib/python3.10/site-packages/tensorflow/python/framework/ops.py\", line 3754, in _create_op_internal\n    ret = Operation(\n  File \"/home/sylvain/.pyenv/versions/3.10.6/envs/FlappyBirdIA/lib/python3.10/site-packages/tensorflow/python/framework/ops.py\", line 2133, in __init__\n    self._traceback = tf_stack.extract_stack_for_node(self._c_op)\n"
     ]
    }
   ],
   "source": [
    "train()"
   ]
  },
  {
   "cell_type": "code",
   "execution_count": null,
   "metadata": {},
   "outputs": [],
   "source": [
    "input_tensor_spec = tf.TensorSpec([None, 80, 80, 4], tf.float32)\n",
    "action_spec = tf.TensorSpec([None], tf.int32)"
   ]
  },
  {
   "cell_type": "code",
   "execution_count": null,
   "metadata": {},
   "outputs": [],
   "source": [
    "algo = q_network.QNetwork(\n",
    "    input_tensor_spec,\n",
    "    action_spec,\n",
    "    preprocessing_layers=None,\n",
    "    preprocessing_combiner=None,\n",
    "    conv_layer_params=None,\n",
    "    dropout_layer_params=None,\n",
    "    activation_fn=tf.keras.activations.relu,\n",
    "    kernel_initializer=None,\n",
    "    batch_squash=True,\n",
    "    dtype=tf.float32,\n",
    "    q_layer_activation_fn=None,\n",
    "    name='QNetwork'\n",
    ")"
   ]
  },
  {
   "cell_type": "markdown",
   "metadata": {},
   "source": [
    "# Tests and verifications"
   ]
  },
  {
   "cell_type": "code",
   "execution_count": null,
   "metadata": {},
   "outputs": [],
   "source": [
    "# pyautogui.confirm('Start AI?', buttons=['Go!'])"
   ]
  }
 ],
 "metadata": {
  "kernelspec": {
   "display_name": "Python 3.10.6 64-bit ('FlappyBirdIA')",
   "language": "python",
   "name": "python3"
  },
  "language_info": {
   "codemirror_mode": {
    "name": "ipython",
    "version": 3
   },
   "file_extension": ".py",
   "mimetype": "text/x-python",
   "name": "python",
   "nbconvert_exporter": "python",
   "pygments_lexer": "ipython3",
   "version": "3.10.6"
  },
  "orig_nbformat": 4,
  "vscode": {
   "interpreter": {
    "hash": "a695e129c08a1f9c49892acab485f71b07168fb63b09b205de0644704f566243"
   }
  }
 },
 "nbformat": 4,
 "nbformat_minor": 2
}
