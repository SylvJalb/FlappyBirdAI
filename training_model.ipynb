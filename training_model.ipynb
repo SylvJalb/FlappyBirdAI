{
 "cells": [
  {
   "cell_type": "markdown",
   "metadata": {},
   "source": [
    "# Import libraries"
   ]
  },
  {
   "cell_type": "code",
   "execution_count": 1,
   "metadata": {},
   "outputs": [],
   "source": [
    "import pyautogui\n",
    "import gi\n",
    "gi.require_version(\"Wnck\", \"3.0\")\n",
    "from gi.repository import Wnck"
   ]
  },
  {
   "cell_type": "markdown",
   "metadata": {},
   "source": [
    "# TO DO : Run the game\n",
    "``` bash\n",
    "cd ./FlappyBirdGame\n",
    "python ./flappy.py\n",
    "```"
   ]
  },
  {
   "cell_type": "markdown",
   "metadata": {},
   "source": [
    "# Get the game window datas"
   ]
  },
  {
   "cell_type": "code",
   "execution_count": 24,
   "metadata": {},
   "outputs": [
    {
     "name": "stdout",
     "output_type": "stream",
     "text": [
      "x :\t 40 \n",
      "y :\t 119 \n",
      "width :\t 288 \n",
      "height : 549\n"
     ]
    }
   ],
   "source": [
    "scr = Wnck.Screen.get_default()\n",
    "scr.force_update()\n",
    "windows = scr.get_windows()\n",
    "FlappyBird_window = None\n",
    "for window in windows:\n",
    "     # if title is \"Flappy Bird\"\n",
    "     if window.get_name() == \"Flappy Bird\":\n",
    "        # get the window's geometry\n",
    "        x, y, width, height = window.get_geometry()\n",
    "        FlappyBird_window = { \"x\": x, \"y\": y, \"width\": width, \"height\": height }\n",
    "        print(\"x :\\t\", x , \"\\ny :\\t\", y , \"\\nwidth :\\t\", width , \"\\nheight :\", height)"
   ]
  },
  {
   "cell_type": "code",
   "execution_count": 31,
   "metadata": {},
   "outputs": [],
   "source": [
    "FlappyBird_click = ( FlappyBird_window[\"x\"] + FlappyBird_window[\"width\"]/2, FlappyBird_window[\"y\"] + FlappyBird_window[\"height\"] - 30 )"
   ]
  },
  {
   "cell_type": "markdown",
   "metadata": {},
   "source": [
    "# Some Tests"
   ]
  },
  {
   "cell_type": "markdown",
   "metadata": {},
   "source": [
    "### Test screen capture"
   ]
  },
  {
   "cell_type": "code",
   "execution_count": 26,
   "metadata": {},
   "outputs": [],
   "source": [
    "# make a screenshot of the window\n",
    "img = pyautogui.screenshot(region=(FlappyBird_window[\"x\"], FlappyBird_window[\"y\"], FlappyBird_window[\"width\"], FlappyBird_window[\"height\"]))\n",
    "# save the screenshot to a file\n",
    "img.show()"
   ]
  },
  {
   "cell_type": "markdown",
   "metadata": {},
   "source": [
    "### Test screen click"
   ]
  },
  {
   "cell_type": "code",
   "execution_count": 32,
   "metadata": {},
   "outputs": [],
   "source": [
    "pyautogui.moveTo(FlappyBird_click)\n",
    "pyautogui.click()\n",
    "pyautogui.press('space')"
   ]
  },
  {
   "cell_type": "markdown",
   "metadata": {},
   "source": [
    "# Build model"
   ]
  },
  {
   "cell_type": "markdown",
   "metadata": {},
   "source": [
    "# Run the training session"
   ]
  },
  {
   "cell_type": "markdown",
   "metadata": {},
   "source": [
    "# Tests and verifications"
   ]
  },
  {
   "cell_type": "code",
   "execution_count": 3,
   "metadata": {},
   "outputs": [
    {
     "data": {
      "text/plain": [
       "'Go!'"
      ]
     },
     "execution_count": 3,
     "metadata": {},
     "output_type": "execute_result"
    }
   ],
   "source": [
    "# pyautogui.confirm('Start AI?', buttons=['Go!'])"
   ]
  }
 ],
 "metadata": {
  "kernelspec": {
   "display_name": "Python 3.10.6 64-bit ('FlappyBirdIA')",
   "language": "python",
   "name": "python3"
  },
  "language_info": {
   "codemirror_mode": {
    "name": "ipython",
    "version": 3
   },
   "file_extension": ".py",
   "mimetype": "text/x-python",
   "name": "python",
   "nbconvert_exporter": "python",
   "pygments_lexer": "ipython3",
   "version": "3.10.6"
  },
  "orig_nbformat": 4,
  "vscode": {
   "interpreter": {
    "hash": "a695e129c08a1f9c49892acab485f71b07168fb63b09b205de0644704f566243"
   }
  }
 },
 "nbformat": 4,
 "nbformat_minor": 2
}
